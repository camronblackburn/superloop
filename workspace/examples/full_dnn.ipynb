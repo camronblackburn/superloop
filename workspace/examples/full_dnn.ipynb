{
 "cells": [
  {
   "cell_type": "code",
   "execution_count": 1,
   "id": "ffbf30fa",
   "metadata": {},
   "outputs": [],
   "source": [
    "import sys\n",
    "\n",
    "\n",
    "# add workspace root directory to Python path for local imports\n",
    "workspace_root = '/home/workspace'\n",
    "if workspace_root not in sys.path:\n",
    "    sys.path.append(workspace_root)\n",
    "\n",
    "from scripts.plots import *\n",
    "from scripts.utils import *"
   ]
  },
  {
   "cell_type": "code",
   "execution_count": null,
   "id": "49cda877",
   "metadata": {},
   "outputs": [],
   "source": [
    "ARCHITECTURE_CHOICE = 'simple'\n",
    "SUB_ARCHITECTURES = ['AQFP_AdvNode']\n",
    "\n",
    "WORKLOAD_CHOICE = 'gpt2_medium'\n",
    "BATCH_SIZE = 8\n",
    "\n",
    "if not SUB_ARCHITECTURES:\n",
    "    SUB_ARCHITECTURES = [os.path.basename(f).rsplit('.', 1)[0] for f in glob.glob(f'../models/architectures/{ARCHITECTURE_CHOICE}/*.yaml')]\n",
    "\n",
    "print(f'Architecture: {ARCHITECTURE_CHOICE} {\", \".join(SUB_ARCHITECTURES)}')\n",
    "print(f'Workload: {WORKLOAD_CHOICE}')"
   ]
  },
  {
   "cell_type": "code",
   "execution_count": null,
   "id": "5cc29825",
   "metadata": {},
   "outputs": [],
   "source": [
    "def test_full_dnn(\n",
    "    dnn_name,\n",
    "    return_per_layer=False,\n",
    "    **kwargs\n",
    "):\n",
    "    # Many of the layerse have the same shape, so this code runs each unique shape once\n",
    "    # and then copies the result for the other layers with the same shape.\n",
    "    all_yamls = sorted(os.listdir(f\"../models/workloads/{dnn_name}\"))\n",
    "    all_yamls = [f for f in all_yamls if f.endswith('.yaml')]\n",
    "    yaml2content = {}\n",
    "    for yaml in all_yamls:\n",
    "        with open(f\"../models/workloads/{dnn_name}/{yaml}\", 'r') as f:\n",
    "            yaml2content[yaml] = f.read()\n",
    "    content2yamls = {}\n",
    "    for yaml, content in yaml2content.items():\n",
    "        content2yamls.setdefault(content, []).append(yaml)\n",
    "        \n",
    "    results = parallel(\n",
    "        delayed(generate_result)(\n",
    "            layer=yamls[0],\n",
    "            **kwargs\n",
    "        )\n",
    "        for yamls in content2yamls.values()\n",
    "    )\n",
    "    \n",
    "    yaml2result = {}\n",
    "    for yamls, result in zip(content2yamls.values(), results):\n",
    "        for yaml in yamls:\n",
    "            yaml2result[yaml] = result\n",
    "            \n",
    "    yaml2result_sorted = {\n",
    "        yaml: yaml2result[yaml] for yaml in all_yamls\n",
    "    }\n",
    "            \n",
    "    if return_per_layer:\n",
    "        return yaml2result_sorted\n",
    "    result = tl.OutputStats.aggregate(list(yaml2result_sorted.values()))\n",
    "    print(f'Total computes: {result.computes}')\n",
    "    return result\n",
    "\n",
    "\n",
    "kwargs = dict(\n",
    "    architecture=ARCHITECTURE_CHOICE,\n",
    "    workload=WORKLOAD_CHOICE,\n",
    "    n_macs=1,\n",
    "    reg_depth=128,\n",
    "    reg_width=16,\n",
    "    batch_size=BATCH_SIZE,\n",
    ")\n",
    "\n",
    "results = {}\n",
    "for sub_architecture in SUB_ARCHITECTURES:\n",
    "    results[sub_architecture] = test_full_dnn(\n",
    "        WORKLOAD_CHOICE, \n",
    "        sub_architecture=sub_architecture,\n",
    "        **kwargs\n",
    "    )\n",
    "\n",
    "results_wo_cooling = {}\n",
    "for sub_architecture in SUB_ARCHITECTURES:\n",
    "    results_wo_cooling[sub_architecture] = test_full_dnn(\n",
    "        WORKLOAD_CHOICE, \n",
    "        sub_architecture=sub_architecture,\n",
    "        add_cooling=False,\n",
    "        **kwargs\n",
    "    )\n",
    "energy_per_compute_wo_cooling = {k:v.per_compute('per_component_energy') for k,v in results_wo_cooling.items()}\n",
    "area_wo_cooling = {k:v.per_component_area for k, v in results_wo_cooling.items()}\n",
    "\n",
    "results_w_cooling = {}\n",
    "for sub_architecture in SUB_ARCHITECTURES:\n",
    "    results_w_cooling[sub_architecture] = test_full_dnn(\n",
    "        WORKLOAD_CHOICE, \n",
    "        sub_architecture=sub_architecture,\n",
    "        add_cooling=True,\n",
    "        **kwargs\n",
    "    )\n",
    "energy_per_compute_w_cooling = {k:v.per_compute('per_component_energy') for k,v in results_w_cooling.items()}\n",
    "area_w_cooling = {k:v.per_component_area for k,v in results_w_cooling.items()}\n"
   ]
  },
  {
   "cell_type": "code",
   "execution_count": null,
   "id": "3eb5468f",
   "metadata": {},
   "outputs": [],
   "source": [
    "fig, axs = plt.subplots(1, 2, figsize=(12, 5))\n",
    "bar_side_by_side(energy_per_compute_wo_cooling, ylabel=\"Energy / compute (J)\", title=\"Energy without cooling\", yscale=\"log\", ax=axs[0], legend_ncol=3, missing_ok=True)\n",
    "bar_side_by_side(energy_per_compute_w_cooling, ylabel=\"Energy / compute (J)\", title=\"Energy with cooling\", yscale=\"log\", ax=axs[1], legend_ncol=3, missing_ok=True)\n",
    "\n",
    "axs[1].set_ylim(bottom=1e-19, top=5e-10)\n",
    "axs[0].set_ylim(bottom=1e-19, top=5e-10)"
   ]
  },
  {
   "cell_type": "code",
   "execution_count": null,
   "id": "2d8afb06",
   "metadata": {},
   "outputs": [],
   "source": [
    "fig, (ax1, ax2) = plt.subplots(2, 1, sharex=True, figsize=(12, 5))\n",
    "fig.subplots_adjust(hspace=0.05)\n",
    "\n",
    "bar_side_by_side(area_w_cooling, title=\"Area\", yscale=\"log\", missing_ok=True, ax=ax1, legend_ncol=3)\n",
    "bar_side_by_side(area_w_cooling, ylabel=\"Area (mm^2)\", yscale=\"log\", missing_ok=True, ax=ax2, legend_off = True)\n",
    "\n",
    "ax1.set_ylim(1e8, 1e12)\n",
    "ax2.set_ylim(1e-12, 1e-5)\n",
    "\n",
    "ax1.spines.bottom.set_visible(False)\n",
    "ax2.spines.top.set_visible(False)\n",
    "ax1.tick_params(bottom=False)\n",
    "\n",
    "d = .5  # proportion of vertical to horizontal extent of the slanted line\n",
    "kwargs = dict(marker=[(-1, -d), (1, d)], markersize=12,\n",
    "              linestyle=\"none\", color='k', mec='k', mew=1, clip_on=False)\n",
    "ax1.plot([0, 1], [0, 0], transform=ax1.transAxes, **kwargs)\n",
    "ax2.plot([0, 1], [1, 1], transform=ax2.transAxes, **kwargs)"
   ]
  },
  {
   "cell_type": "markdown",
   "id": "933ea608",
   "metadata": {},
   "source": [
    "## Small register and single MAC"
   ]
  },
  {
   "cell_type": "code",
   "execution_count": 6,
   "id": "5b76e40f",
   "metadata": {},
   "outputs": [],
   "source": [
    "kwargs = dict(\n",
    "    architecture=ARCHITECTURE_CHOICE,\n",
    "    workload=WORKLOAD_CHOICE,\n",
    "    layer=LAYER_CHOICE,\n",
    "    n_macs=1,\n",
    "    reg_depth=128,\n",
    "    reg_width=16\n",
    ")\n",
    "\n",
    "results = {}\n",
    "results = Parallel(n_jobs=-1)(delayed(generate_result)(sub_architecture, BATCH_SIZE, add_cooling=False, **kwargs) for sub_architecture in SUB_ARCHITECTURES)\n",
    "results = {sub_architecture: result for sub_architecture, result in zip(SUB_ARCHITECTURES, results)}\n",
    "energy_per_compute = {k:v.per_compute('per_component_energy') for k,v in results.items()}\n",
    "area = {k:v.per_component_area for k,v in results.items()}"
   ]
  },
  {
   "cell_type": "code",
   "execution_count": null,
   "id": "64dc2027",
   "metadata": {},
   "outputs": [],
   "source": [
    "fig, axs = plt.subplots(1, 2, figsize=(12, 5))\n",
    "bar_side_by_side(energy_per_compute, ylabel=\"Energy / compute (J)\", title=\"Energy Performance\", yscale=\"log\", ax=axs[0], legend_ncol=3, missing_ok=True)\n",
    "bar_side_by_side(area, ylabel=\"Area (mm^2)\", title=\"Area Performance\", yscale=\"log\", ax=axs[1], legend_ncol=3, missing_ok=True)"
   ]
  },
  {
   "cell_type": "markdown",
   "id": "ccf8bbff",
   "metadata": {},
   "source": [
    "## Larger register and single MAC"
   ]
  },
  {
   "cell_type": "code",
   "execution_count": 8,
   "id": "f2b49459",
   "metadata": {},
   "outputs": [],
   "source": [
    "kwargs = dict(\n",
    "    architecture=ARCHITECTURE_CHOICE,\n",
    "    workload=WORKLOAD_CHOICE,\n",
    "    layer=LAYER_CHOICE,\n",
    "    n_macs=1,\n",
    "    reg_depth=128*4,\n",
    "    reg_width=16\n",
    ")\n",
    "\n",
    "results = {}\n",
    "results = Parallel(n_jobs=-1)(delayed(generate_result)(sub_architecture, BATCH_SIZE, add_cooling=False, **kwargs) for sub_architecture in SUB_ARCHITECTURES)\n",
    "results = {sub_architecture: result for sub_architecture, result in zip(SUB_ARCHITECTURES, results)}\n",
    "energy_per_compute = {k:v.per_compute('per_component_energy') for k,v in results.items()}\n",
    "area = {k:v.per_component_area for k,v in results.items()}"
   ]
  },
  {
   "cell_type": "code",
   "execution_count": null,
   "id": "d7394861",
   "metadata": {},
   "outputs": [],
   "source": [
    "fig, axs = plt.subplots(1, 2, figsize=(12, 5))\n",
    "bar_side_by_side(energy_per_compute, ylabel=\"Energy / compute (J)\", title=\"Energy Performance\", yscale=\"log\", ax=axs[0], legend_ncol=3, missing_ok=True)\n",
    "bar_side_by_side(area, ylabel=\"Area (mm^2)\", title=\"Area Performance\", yscale=\"log\", ax=axs[1], legend_ncol=3, missing_ok=True)"
   ]
  },
  {
   "cell_type": "markdown",
   "id": "0b5e936c",
   "metadata": {},
   "source": [
    "## Large register and many MACs"
   ]
  },
  {
   "cell_type": "code",
   "execution_count": 10,
   "id": "a2b86d09",
   "metadata": {},
   "outputs": [],
   "source": [
    "kwargs = dict(\n",
    "    architecture=ARCHITECTURE_CHOICE,\n",
    "    workload=WORKLOAD_CHOICE,\n",
    "    layer=LAYER_CHOICE,\n",
    "    n_macs=16,\n",
    "    reg_depth=128*4,\n",
    "    reg_width=16\n",
    ")\n",
    "\n",
    "results = {}\n",
    "results = Parallel(n_jobs=-1)(delayed(generate_result)(sub_architecture, BATCH_SIZE, add_cooling=False, **kwargs) for sub_architecture in SUB_ARCHITECTURES)\n",
    "results = {sub_architecture: result for sub_architecture, result in zip(SUB_ARCHITECTURES, results)}\n",
    "energy_per_compute = {k:v.per_compute('per_component_energy') for k,v in results.items()}\n",
    "area = {k:v.per_component_area for k,v in results.items()}"
   ]
  },
  {
   "cell_type": "code",
   "execution_count": null,
   "id": "4bb61230",
   "metadata": {},
   "outputs": [],
   "source": [
    "fig, axs = plt.subplots(1, 2, figsize=(12, 5))\n",
    "bar_side_by_side(energy_per_compute, ylabel=\"Energy / compute (J)\", title=\"Energy Performance\", yscale=\"log\", ax=axs[0], legend_ncol=3, missing_ok=True)\n",
    "bar_side_by_side(area, ylabel=\"Area (mm^2)\", title=\"Area Performance\", yscale=\"log\", ax=axs[1], legend_ncol=3, missing_ok=True)"
   ]
  },
  {
   "cell_type": "code",
   "execution_count": null,
   "id": "aeda67e8",
   "metadata": {},
   "outputs": [],
   "source": []
  }
 ],
 "metadata": {
  "kernelspec": {
   "display_name": "Python 3",
   "language": "python",
   "name": "python3"
  },
  "language_info": {
   "codemirror_mode": {
    "name": "ipython",
    "version": 3
   },
   "file_extension": ".py",
   "mimetype": "text/x-python",
   "name": "python",
   "nbconvert_exporter": "python",
   "pygments_lexer": "ipython3",
   "version": "3.10.12"
  }
 },
 "nbformat": 4,
 "nbformat_minor": 5
}
